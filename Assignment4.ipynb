{
 "cells": [
  {
   "cell_type": "markdown",
   "metadata": {},
   "source": [
    "# Python Assignment 4"
   ]
  },
  {
   "cell_type": "code",
   "execution_count": 1,
   "metadata": {},
   "outputs": [],
   "source": [
    "#Write a Python Program(with class concepts) to find the area of the triangle using the below formula.\n",
    "#area = (s*(s-a)*(s-b)*(s-c)) ** 0.5\n",
    "#Function to take the length of the sides of triangle from user should be defined in the parent class and function \n",
    "#to calculate the area should be defined in subclass."
   ]
  },
  {
   "cell_type": "code",
   "execution_count": 2,
   "metadata": {},
   "outputs": [
    {
     "name": "stdout",
     "output_type": "stream",
     "text": [
      "Enter the length of side of triangle: 8\n",
      "Enter the length of side of triangle: 12\n",
      "Enter the length of side of triangle: 12\n",
      "Area = 45.254833995939045\n"
     ]
    }
   ],
   "source": [
    "class Triangle:\n",
    "    def __init__(self,a,b,c):\n",
    "        self.a = a\n",
    "        self.b = b\n",
    "        self.c = c\n",
    "    def area(self):\n",
    "        s = (self.a+self.b+self.c)/2\n",
    "        area = (s*(s-self.a)*(s-self.b)*(s-self.c))**0.5\n",
    "        return area \n",
    "a  = float(input(\"Enter the length of side of triangle: \"))\n",
    "b  = float(input(\"Enter the length of side of triangle: \"))\n",
    "c  = float(input(\"Enter the length of side of triangle: \"))\n",
    "t = Triangle(a,b,c)\n",
    "print(\"Area =\",t.area())"
   ]
  },
  {
   "cell_type": "code",
   "execution_count": 4,
   "metadata": {},
   "outputs": [
    {
     "name": "stdout",
     "output_type": "stream",
     "text": [
      "Enter a number: 3\n",
      "Enter a sentence: A friend in need is a friend in deed\n",
      "Words longer than n:  ['friend', 'need', 'friend', 'deed']\n"
     ]
    }
   ],
   "source": [
    "#Write a function filter_long_words() that takes a list of words and an integer n and returns\n",
    "#the list of words that are longer than n.\n",
    "\n",
    "def filter_long_words(n, str):\n",
    "    word = []\n",
    "    sentence = str.split(\" \")\n",
    "    for x in sentence:\n",
    "        if len(x) > n:\n",
    "            word.append(x)\n",
    "    return word    \n",
    "\n",
    "def main():\n",
    "    n = int(input(\"Enter a number: \"))\n",
    "    str = input(\"Enter a sentence: \")\n",
    "    \n",
    "    result = filter_long_words(n, str)\n",
    "    print(\"Words longer than n: \",result)\n",
    "main()"
   ]
  },
  {
   "cell_type": "code",
   "execution_count": 6,
   "metadata": {},
   "outputs": [
    {
     "name": "stdout",
     "output_type": "stream",
     "text": [
      "[3, 2, 4, 3, 3, 4]\n"
     ]
    }
   ],
   "source": [
    "#Write a Python program using function concept that maps list of words into a list of integers\n",
    "#representing the lengths of the corresponding words.\n",
    "\n",
    "def map_word(words):\n",
    "    return[len(word)for word in words]\n",
    "words = [\"God\",\"is\",\"good\",\"all\",\"the\",\"time\"]\n",
    "print (map_word(words))"
   ]
  },
  {
   "cell_type": "code",
   "execution_count": 7,
   "metadata": {},
   "outputs": [
    {
     "name": "stdout",
     "output_type": "stream",
     "text": [
      "[5, 4, 3, 4]\n"
     ]
    }
   ],
   "source": [
    "def map_words(words):\n",
    "    l=[]\n",
    "    for word in words:\n",
    "        l.append(len(word))\n",
    "    return l \n",
    "words = [\"Apple\",\"Ball\",\"Cat\",\"Fish\"]\n",
    "print (map_words(words))"
   ]
  },
  {
   "cell_type": "code",
   "execution_count": 9,
   "metadata": {},
   "outputs": [
    {
     "name": "stdout",
     "output_type": "stream",
     "text": [
      "Enter a characterM\n",
      "False\n"
     ]
    }
   ],
   "source": [
    "#Write a Python function which takes a character (i.e. a string of length 1) and returns True if\n",
    "#it is a vowel, False otherwise.\n",
    "\n",
    "def Vowel():\n",
    "    char = input(\"Enter a character\")\n",
    "    if char in [\"A\",\"a\",\"E\",\"e\",\"I\",\"i\",\"O\",\"o\",\"U\",\"u\"]:\n",
    "        return True\n",
    "    else:\n",
    "        return False\n",
    "print (Vowel())"
   ]
  },
  {
   "cell_type": "code",
   "execution_count": null,
   "metadata": {},
   "outputs": [],
   "source": []
  }
 ],
 "metadata": {
  "kernelspec": {
   "display_name": "Python 3",
   "language": "python",
   "name": "python3"
  },
  "language_info": {
   "codemirror_mode": {
    "name": "ipython",
    "version": 3
   },
   "file_extension": ".py",
   "mimetype": "text/x-python",
   "name": "python",
   "nbconvert_exporter": "python",
   "pygments_lexer": "ipython3",
   "version": "3.7.1"
  }
 },
 "nbformat": 4,
 "nbformat_minor": 2
}
